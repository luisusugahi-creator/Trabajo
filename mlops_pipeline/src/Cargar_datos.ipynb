# Notebook: Cargar datos
Este archivo se utiliza para la carga inicial del dataset.
